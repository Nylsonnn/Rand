{
 "cells": [
  {
   "cell_type": "code",
   "execution_count": 1,
   "metadata": {},
   "outputs": [],
   "source": [
    "import requests #Requests module let's me deal with HTTPS requests\n",
    "from bs4 import BeautifulSoup #BeeatifulSoup is amazing for parsing HTML data into a data structure\n",
    "\n",
    "\n",
    "#Define a function in order to grab URL from the task\n",
    "def fetch_google_doc(url):\n",
    "    response = requests.get(url)\n",
    "    response.raise_for_status()\n",
    "    return response.text\n",
    "\n",
    "\n",
    "#Function to parse the data from the table into a\n",
    "#data structure in the from [x, char, y]\n",
    "def parse_data(doc_content):\n",
    "    soup = BeautifulSoup(doc_content, \"html.parser\")\n",
    "    table = soup.find(\"table\")\n",
    "    data = []\n",
    "    for row in table.find_all(\"tr\")[1:]:\n",
    "        r = []\n",
    "        for column in row.find_all(\"td\"):\n",
    "            r.append(column.p.text)\n",
    "        data.append((int(r[0]), int(r[2]), r[1]))\n",
    "\n",
    "    return data\n",
    "\n",
    "#Turns the parsed data into a 2D grid in order to display the \n",
    "#secret message\n",
    "def create_grid(data):\n",
    "    if not data:\n",
    "        return []\n",
    "    \n",
    "    #Checks for the maximum x and y values in order to \n",
    "    #correctly make the dimensions and not go on forever\n",
    "    max_x = max(x for x, y, char in data)\n",
    "    max_y = max(y for x, y, char in data)\n",
    "    \n",
    "    grid = [[' ' for _ in range(max_x + 1)] for _ in range(max_y + 1)]\n",
    "    \n",
    "    #defines where the chars are actually going to be plotted\n",
    "    for x, y, char in data:\n",
    "        grid[y][x] = char\n",
    "    \n",
    "    return grid\n",
    "\n",
    "#'plots' the chars in their respective coordinates\n",
    "def print_grid(grid):\n",
    "    for row in grid:\n",
    "        print(''.join(row))\n",
    "\n",
    "#Function to put all other functions together given a URL\n",
    "def display_message_from_doc(url):\n",
    "    doc_content = fetch_google_doc(url)\n",
    "    data = parse_data(doc_content)\n",
    "    grid = create_grid(data)\n",
    "    print_grid(grid)\n",
    "\n",
    "#Final product\n",
    "#print('The secret message is...')\n",
    "#display_message_from_doc('<URL>')"
   ]
  }
 ],
 "metadata": {
  "interpreter": {
   "hash": "47523884c22546dd5cb66c21141fc93219b36ebb2d3b9cfbd22386ac18071f13"
  },
  "kernelspec": {
   "display_name": "Python 3.8.3 64-bit ('base': conda)",
   "name": "python3"
  },
  "language_info": {
   "codemirror_mode": {
    "name": "ipython",
    "version": 3
   },
   "file_extension": ".py",
   "mimetype": "text/x-python",
   "name": "python",
   "nbconvert_exporter": "python",
   "pygments_lexer": "ipython3",
   "version": "3.11.9"
  }
 },
 "nbformat": 4,
 "nbformat_minor": 4
}
